{
  "nbformat": 4,
  "nbformat_minor": 0,
  "metadata": {
    "colab": {
      "name": "Untitled2.ipynb",
      "provenance": [],
      "collapsed_sections": []
    },
    "kernelspec": {
      "name": "python3",
      "display_name": "Python 3"
    },
    "language_info": {
      "name": "python"
    },
    "accelerator": "GPU"
  },
  "cells": [
    {
      "cell_type": "markdown",
      "metadata": {
        "id": "bV-CQ03XHna2"
      },
      "source": [
        "# **Download and prepare assets**"
      ]
    },
    {
      "cell_type": "code",
      "metadata": {
        "id": "tJWlfLx_GyKa"
      },
      "source": [
        "import os, sys\n",
        "if not os.path.isdir('/content/UAVPatches'):\n",
        "  !git clone -q https://github.com/farhadinima75/UAVPatches.git\n",
        "os.chdir('/content/UAVPatches')\n",
        "sys.path.append('/content/UAVPatches')\n",
        "\n",
        "#Install requirements\n",
        "!pip3 install -q -r Requirements.txt\n",
        "\n",
        "#Download HardNet descriptor weights\n",
        "!wget -q -O HardNet.pth https://github.com/DagnyT/hardnet/raw/master/pretrained/train_liberty/checkpoint_liberty_no_aug.pth"
      ],
      "execution_count": null,
      "outputs": []
    },
    {
      "cell_type": "markdown",
      "metadata": {
        "id": "ikAfIovTKfNW"
      },
      "source": [
        "# **Matching 2 UAV images with UAVPatches, SIFT, ...**"
      ]
    },
    {
      "cell_type": "code",
      "metadata": {
        "colab": {
          "base_uri": "https://localhost:8080/"
        },
        "id": "lQxiv3FYKxOH",
        "outputId": "6716146f-10ce-4ca7-de5a-4b9a12c76a12"
      },
      "source": [
        "import os, sys, torch, cv2\n",
        "os.chdir('/content/UAVPatches')\n",
        "sys.path.append('/content/UAVPatches')\n",
        "from Utils.Matching import *\n",
        "from Utils.Model import HardNet\n",
        "from Utils.Visualize import draw_matches\n",
        "from google.colab import files\n",
        "from matplotlib import pyplot as plt\n",
        "\n",
        "UAVPatchesPlusDesc = HardNet().eval()\n",
        "UAVPatchesPlusDesc.load_state_dict(torch.load('/content/UAVPatches/Pretrained/UAVPatches+.pth', map_location=torch.device('cpu'))['state_dict'])\n",
        "UAVPatchesDesc = HardNet().eval()\n",
        "UAVPatchesDesc.load_state_dict(torch.load('/content/UAVPatches/Pretrained/UAVPatches.pth', map_location=torch.device('cpu'))['state_dict'])\n",
        "HardnetModel = HardNet().eval()\n",
        "HardnetModel.load_state_dict(torch.load('/content/UAVPatches/HardNet.pth', map_location=torch.device('cpu'))['state_dict'])\n",
        "\n",
        "def UploadImages():\n",
        "  print('Please select 2 images (left and right image).')\n",
        "  Images = '/content/UAVPatches/Images'\n",
        "  os.makedirs(Images, exist_ok=True)\n",
        "  os.chdir(Images)\n",
        "  uploaded = files.upload()\n",
        "  return os.path.join(Images, list(uploaded.keys())[0]), os.path.join(Images, list(uploaded.keys())[1])\n",
        "\n",
        "def Match2Image(DescName):\n",
        "  if   DescName == 'UAVPatches+': Desc = UAVPatchesANDPlus(UAVPatchesPlusDesc)\n",
        "  elif DescName == 'UAVPatches': Desc = UAVPatchesANDPlus(UAVPatchesDesc)\n",
        "  elif DescName == 'HardNet': Desc = HardNetDesc(HardnetModel)\n",
        "  else:  Desc = SIFT()\n",
        "  MatchInit = TwoViewMatcher(detector=cv2.SIFT_create(TotalKeyPoints), descriptor=Desc,\n",
        "                             matcher=SNNMMatcher(0.9), geom_verif=degensac_Verifier(0.5))\n",
        "  MatchOut = MatchInit.verify(img1, img2)\n",
        "  draw_matches(MatchOut['match_kpts1'], MatchOut['match_kpts2'],\n",
        "               img1, img2, path=os.path.join(OutputDir, DescName), figsize=(8,13), color=(250,255,0), vert=True, R=6)\n",
        "  \n",
        "#########################################################\n",
        "################ Main ###################################\n",
        "#########################################################\n",
        "TotalKeyPoints = 40000\n",
        "\n",
        "OutputDir = '/content/UAVPatches/Outputs'\n",
        "os.makedirs(OutputDir, exist_ok=True)\n",
        "\n",
        "# img1, img2 = UploadImages()\n",
        "img1, img2 = '/content/UAVPatches/Images/DJI_0021.JPG', '/content/UAVPatches/Images/DJI_0022.JPG'\n",
        "\n",
        "Descriptors = ['UAVPatches+', 'UAVPatches', 'HardNet', 'SIFT']\n",
        "\n",
        "Fig, Axs = plt.subplots(1, len(Descriptors), figsize=(30,20))\n",
        "for i, DName in enumerate(Descriptors):\n",
        "  print('Matching images with {}...  '.format(DName), end='')\n",
        "  Match2Image(DName)\n",
        "  print('Done.')\n",
        "  if len(Descriptors) == 1: Axs.imshow(plt.imread(os.path.join(OutputDir, DName) + '.JPG')); Axs.set_title(DName)\n",
        "  else: Axs[i].imshow(plt.imread(os.path.join(OutputDir, DName) + '.JPG')); Axs[i].set_title(DName)\n",
        "plt.show()"
      ],
      "execution_count": null,
      "outputs": [
        {
          "output_type": "stream",
          "name": "stdout",
          "text": [
            "Matching images with UAVPatches+...  Done.\n",
            "Matching images with UAVPatches...  Done.\n",
            "Matching images with HardNet...  "
          ]
        }
      ]
    }
  ]
}